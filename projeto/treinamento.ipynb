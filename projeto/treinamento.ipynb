{
 "cells": [
  {
   "cell_type": "markdown",
   "metadata": {
    "colab_type": "text",
    "id": "cgpZPu6DZjyO"
   },
   "source": [
    "Usar a célula abaixo no [gist](https://gist.github.com/PauloGSC/d2844e133de645525a88ad38f5f0d22e). As instruções estão no próprio gist."
   ]
  },
  {
   "cell_type": "code",
   "execution_count": null,
   "metadata": {
    "colab": {},
    "colab_type": "code",
    "id": "McvFbQUt7vOK"
   },
   "outputs": [],
   "source": [
    "from datetime import datetime, timedelta; print((datetime.now() - timedelta(hours=3)).strftime('%d/%m/%Y %H:%M:%S'))"
   ]
  },
  {
   "cell_type": "markdown",
   "metadata": {
    "colab_type": "text",
    "id": "QipQhkKPdCPU"
   },
   "source": [
    "# Importando utilitários do Jupyter\n",
    "\n"
   ]
  },
  {
   "cell_type": "code",
   "execution_count": null,
   "metadata": {
    "colab": {
     "base_uri": "https://localhost:8080/",
     "height": 34
    },
    "colab_type": "code",
    "id": "v8ZfzoiOdKoC",
    "outputId": "29e389d8-9eee-4c3c-e58c-4376c18fe273"
   },
   "outputs": [],
   "source": [
    "import IPython\n",
    "from IPython.display import Image\n",
    "\n",
    "print(IPython.version_info)"
   ]
  },
  {
   "cell_type": "markdown",
   "metadata": {
    "colab_type": "text",
    "id": "thqLiKypSvX3"
   },
   "source": [
    "# Removendo pasta *sample_data*"
   ]
  },
  {
   "cell_type": "code",
   "execution_count": null,
   "metadata": {
    "colab": {},
    "colab_type": "code",
    "id": "sd1bKYtRS3AF"
   },
   "outputs": [],
   "source": [
    "%rm -rf sample_data"
   ]
  },
  {
   "cell_type": "markdown",
   "metadata": {
    "colab_type": "text",
    "id": "RpNTvdok3fQt"
   },
   "source": [
    "# Clonando o repositório"
   ]
  },
  {
   "cell_type": "code",
   "execution_count": null,
   "metadata": {
    "colab": {
     "base_uri": "https://localhost:8080/",
     "height": 173
    },
    "colab_type": "code",
    "id": "Z1AJnSus3WvE",
    "outputId": "0fc5443e-f916-4731-c980-14faa46b4c70"
   },
   "outputs": [],
   "source": [
    "%rm -rf yolov3\n",
    "! git clone --depth 1 https://github.com/PauloGSC/yolov3.git\n",
    "%cd yolov3"
   ]
  },
  {
   "cell_type": "markdown",
   "metadata": {
    "colab_type": "text",
    "id": "EzSw6sg5vGkh"
   },
   "source": [
    "# Criando diretórios `data/samples` e `data/output`"
   ]
  },
  {
   "cell_type": "code",
   "execution_count": null,
   "metadata": {
    "colab": {},
    "colab_type": "code",
    "id": "-LORpcG2vLkD"
   },
   "outputs": [],
   "source": [
    "%mkdir -p data/samples/img data/samples/vid\n",
    "%mkdir -p data/output/img data/output/vid"
   ]
  },
  {
   "cell_type": "markdown",
   "metadata": {
    "colab_type": "text",
    "id": "ClEnYiwK3wXU"
   },
   "source": [
    "# Instalando dependências"
   ]
  },
  {
   "cell_type": "code",
   "execution_count": null,
   "metadata": {
    "colab": {
     "base_uri": "https://localhost:8080/",
     "height": 0
    },
    "colab_type": "code",
    "id": "GFX7RZGj35qA",
    "outputId": "746da236-734b-49dc-d751-713848ae1023"
   },
   "outputs": [],
   "source": [
    "! pip install -r requirements.txt"
   ]
  },
  {
   "cell_type": "markdown",
   "metadata": {
    "colab_type": "text",
    "id": "kMIjW4Vb3_Tq"
   },
   "source": [
    "# Obtendo pesos pré-treinados pela ultralytics"
   ]
  },
  {
   "cell_type": "code",
   "execution_count": null,
   "metadata": {
    "colab": {
     "base_uri": "https://localhost:8080/",
     "height": 54
    },
    "colab_type": "code",
    "id": "tRgHowRS4wx-",
    "outputId": "bb0527e0-b9d8-4cf7-97bf-e481d6b3e414"
   },
   "outputs": [],
   "source": [
    "from os.path import join\n",
    "from models import *\n",
    "\n",
    "pfx = 'weights/ultralytics'\n",
    "weights = ['yolov3.pt']\n",
    "for w in weights:\n",
    "    attempt_download(join(pfx, w))"
   ]
  },
  {
   "cell_type": "markdown",
   "metadata": {
    "colab_type": "text",
    "id": "mAQRa02fBept"
   },
   "source": [
    "# Verificando GPU"
   ]
  },
  {
   "cell_type": "code",
   "execution_count": null,
   "metadata": {
    "colab": {
     "base_uri": "https://localhost:8080/",
     "height": 54
    },
    "colab_type": "code",
    "id": "TPCO4EghBhtV",
    "outputId": "8ad4d2d1-4c02-41c8-bd77-0094c43a7e08"
   },
   "outputs": [],
   "source": [
    "import torch\n",
    "print(torch.cuda.get_device_properties(0) if torch.cuda.is_available else \"cpu\")"
   ]
  },
  {
   "cell_type": "markdown",
   "metadata": {
    "colab_type": "text",
    "id": "tAok98tcXwRQ"
   },
   "source": [
    "# Sobrescrevendo hiperparâmetros"
   ]
  },
  {
   "cell_type": "code",
   "execution_count": null,
   "metadata": {
    "colab": {
     "base_uri": "https://localhost:8080/",
     "height": 34
    },
    "colab_type": "code",
    "id": "-dE8IcbVX0AC",
    "outputId": "65d0b9b4-f9db-47bc-ee0f-c73c8ddfad8b"
   },
   "outputs": [],
   "source": [
    "! > hyp-custom.txt # limpa o arquivo primeiro\n",
    "! echo \"giou 0.5\" >> hyp-custom.txt # adiciona ao final\n",
    "! echo \"iou_t 0.4\" >> hyp-custom.txt # adiciona ao final\n",
    "\n",
    "! cat hyp-custom.txt"
   ]
  },
  {
   "cell_type": "markdown",
   "metadata": {
    "colab_type": "text",
    "id": "TJpN-P1O5blC"
   },
   "source": [
    "# Treinando"
   ]
  },
  {
   "cell_type": "code",
   "execution_count": null,
   "metadata": {
    "colab": {
     "base_uri": "https://localhost:8080/",
     "height": 798
    },
    "colab_type": "code",
    "id": "K4lAowCIf3vi",
    "outputId": "fb1158c7-5ac4-41ae-9a49-00bbd66cc333"
   },
   "outputs": [],
   "source": [
    "! python train.py --cfg cfg/assistente-yolov3.cfg --weights weights/ultralytics/yolov3.pt --epochs 15 --batch-size 8 --freeze-layers"
   ]
  },
  {
   "cell_type": "markdown",
   "metadata": {},
   "source": [
    "# Aparando _best.pt_"
   ]
  },
  {
   "cell_type": "code",
   "execution_count": null,
   "metadata": {},
   "outputs": [],
   "source": [
    "from utils.utils import strip_optimizer; strip_optimizer()"
   ]
  },
  {
   "cell_type": "markdown",
   "metadata": {
    "colab_type": "text",
    "id": "KZ10KzbeatJi"
   },
   "source": [
    "# Testando"
   ]
  },
  {
   "cell_type": "code",
   "execution_count": null,
   "metadata": {
    "colab": {},
    "colab_type": "code",
    "id": "kNsKJWYsaw_5"
   },
   "outputs": [],
   "source": [
    "! python test.py --cfg cfg/assistente-yolov3.cfg --weights weights/best.pt --batch-size 8"
   ]
  },
  {
   "cell_type": "markdown",
   "metadata": {
    "colab_type": "text",
    "id": "u7Ye4QNvg8v4"
   },
   "source": [
    "# Plotando resultados"
   ]
  },
  {
   "cell_type": "code",
   "execution_count": null,
   "metadata": {
    "colab": {},
    "colab_type": "code",
    "id": "MkBH2GDzdkax"
   },
   "outputs": [],
   "source": [
    "# ! python -c \"from utils import utils; utils.plot_results()\"\n",
    "Image(filename='results.png', height=400)"
   ]
  },
  {
   "cell_type": "markdown",
   "metadata": {
    "colab_type": "text",
    "id": "FrGLodnJd5i3"
   },
   "source": [
    "# Inferência"
   ]
  },
  {
   "cell_type": "code",
   "execution_count": null,
   "metadata": {
    "colab": {},
    "colab_type": "code",
    "id": "eGA9EW5-d7-d"
   },
   "outputs": [],
   "source": [
    "! python detect.py --source data/samples/img --output data/output/img --cfg cfg/assistente-yolov3.cfg --weights weights/best.pt"
   ]
  },
  {
   "cell_type": "code",
   "execution_count": null,
   "metadata": {},
   "outputs": [],
   "source": [
    "! python detect.py --source data/samples/vid --output data/output/vid --cfg cfg/assistente-yolov3.cfg --weights weights/best.pt"
   ]
  },
  {
   "cell_type": "markdown",
   "metadata": {
    "colab_type": "text",
    "id": "WdDdfoUzwIko"
   },
   "source": [
    "# Plotar imagem"
   ]
  },
  {
   "cell_type": "code",
   "execution_count": null,
   "metadata": {
    "colab": {},
    "colab_type": "code",
    "id": "RR_VPwfrwKrI"
   },
   "outputs": [],
   "source": [
    "Image(filename='data/output/img/dtc-teste-00.jpg', height=400)"
   ]
  },
  {
   "cell_type": "markdown",
   "metadata": {
    "colab_type": "text",
    "id": "E0Y2FSPUG9E_"
   },
   "source": [
    "# Zipando pesos, saídas e resultados"
   ]
  },
  {
   "cell_type": "code",
   "execution_count": null,
   "metadata": {
    "colab": {},
    "colab_type": "code",
    "id": "5EOhJIMkG9FA"
   },
   "outputs": [],
   "source": [
    "! zip -r e3-8.zip data/output weights/best.pt results.png results.txt"
   ]
  },
  {
   "cell_type": "markdown",
   "metadata": {
    "colab_type": "text",
    "id": "fpuDj48QG9FS"
   },
   "source": [
    "# Removendo resquícios do último treinamento"
   ]
  },
  {
   "cell_type": "code",
   "execution_count": null,
   "metadata": {
    "colab": {},
    "colab_type": "code",
    "id": "7JZ3_Nj5G9FT"
   },
   "outputs": [],
   "source": [
    "# não esquecer de antes fazer o download dos arquivos\n",
    "%rm -rf *.zip weights/last.pt weights/best.pt train_batch* test_batch* results* data/*/*.npy data/*.shapes data/output/img/* data/output/vid/* runs/*"
   ]
  },
  {
   "cell_type": "markdown",
   "metadata": {
    "colab_type": "text",
    "id": "RdI9xk7GTtYB"
   },
   "source": [
    "# Célula pra fazer qualquer outra coisa"
   ]
  },
  {
   "cell_type": "code",
   "execution_count": null,
   "metadata": {
    "colab": {},
    "colab_type": "code",
    "id": "ZczlpU_sTw4_"
   },
   "outputs": [],
   "source": []
  }
 ],
 "metadata": {
  "accelerator": "GPU",
  "colab": {
   "collapsed_sections": [],
   "name": "assistente.ipynb",
   "provenance": [],
   "toc_visible": true
  },
  "kernelspec": {
   "display_name": "Python 3",
   "language": "python",
   "name": "python3"
  },
  "language_info": {
   "codemirror_mode": {
    "name": "ipython",
    "version": 3
   },
   "file_extension": ".py",
   "mimetype": "text/x-python",
   "name": "python",
   "nbconvert_exporter": "python",
   "pygments_lexer": "ipython3",
   "version": "3.8.2"
  }
 },
 "nbformat": 4,
 "nbformat_minor": 4
}
